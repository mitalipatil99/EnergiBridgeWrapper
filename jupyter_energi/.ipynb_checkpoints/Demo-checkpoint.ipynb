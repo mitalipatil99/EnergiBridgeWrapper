{
 "cells": [
  {
   "cell_type": "markdown",
   "metadata": {},
   "source": []
  },
  {
   "cell_type": "code",
   "execution_count": 1,
   "metadata": {
    "ExecuteTime": {
     "end_time": "2024-03-19T14:03:55.650335100Z",
     "start_time": "2024-03-19T14:03:55.614333Z"
    },
    "scrolled": true
   },
   "outputs": [],
   "source": [
    "\n",
    "import jupyter_energi"
   ]
  },
  {
   "cell_type": "code",
   "execution_count": 2,
   "metadata": {
    "ExecuteTime": {
     "end_time": "2024-03-19T14:03:57.580892300Z",
     "start_time": "2024-03-19T14:03:55.643016Z"
    }
   },
   "outputs": [
    {
     "name": "stdout",
     "output_type": "stream",
     "text": [
      "0\n",
      "1\n",
      "2\n"
     ]
    }
   ],
   "source": [
    "some_code = '''\n",
    "\n",
    "for i in range(3):\n",
    "    sleep(1)\n",
    "    print(i)\n",
    "    \n",
    "'''\n",
    "\n",
    "#EnergiBridgeStart\n",
    "from time import sleep\n",
    "\n",
    "for i in range(3):\n",
    "    sleep(1)\n",
    "    print(i)\n",
    "#EnergiBridgeStop\n"
   ]
  },
  {
   "cell_type": "code",
   "execution_count": 3,
   "metadata": {
    "ExecuteTime": {
     "end_time": "2024-03-19T11:54:57.308094200Z",
     "start_time": "2024-03-19T11:54:57.301092300Z"
    }
   },
   "outputs": [
    {
     "name": "stdout",
     "output_type": "stream",
     "text": [
      "0\n",
      "1\n",
      "2\n",
      "Energy consumption in joules: 16.5948486328125 for 3.218735 sec of execution.\n",
      "\n",
      "\n",
      "0.0\n",
      "2381.1392456054687\n",
      "4762.336645507812\n",
      "7143.591833496093\n",
      "9524.90419921875\n",
      "11906.278820800782\n",
      "14287.708239746094\n",
      "16657.287148376465\n",
      "19026.924576416015\n",
      "21408.527481689453\n",
      "23790.18880981445\n",
      "26171.907572021482\n",
      "28553.682755126953\n",
      "30935.513284912107\n",
      "33317.40235961914\n",
      "35699.34752563477\n",
      "38081.35052856446\n",
      "38117.081413696294\n"
     ]
    }
   ],
   "source": [
    "data = jupyter_energi.run()\n"
   ]
  },
  {
   "cell_type": "code",
   "execution_count": null,
   "metadata": {
    "ExecuteTime": {
     "end_time": "2024-03-18T13:31:34.207992100Z",
     "start_time": "2024-03-18T13:31:34.193992800Z"
    }
   },
   "outputs": [],
   "source": []
  },
  {
   "cell_type": "code",
   "execution_count": 5,
   "metadata": {
    "ExecuteTime": {
     "end_time": "2024-03-18T13:31:34.236992100Z",
     "start_time": "2024-03-18T13:31:34.208992700Z"
    }
   },
   "outputs": [],
   "source": []
  },
  {
   "cell_type": "code",
   "execution_count": 5,
   "metadata": {
    "ExecuteTime": {
     "end_time": "2024-03-18T13:31:34.245027300Z",
     "start_time": "2024-03-18T13:31:34.224993500Z"
    }
   },
   "outputs": [],
   "source": []
  },
  {
   "cell_type": "code",
   "execution_count": null,
   "metadata": {},
   "outputs": [],
   "source": [
    "data = jupyter_energi.run(some_code)"
   ]
  }
 ],
 "metadata": {
  "kernelspec": {
   "display_name": "Python 3",
   "language": "python",
   "name": "python3"
  },
  "language_info": {
   "codemirror_mode": {
    "name": "ipython",
    "version": 3
   },
   "file_extension": ".py",
   "mimetype": "text/x-python",
   "name": "python",
   "nbconvert_exporter": "python",
   "pygments_lexer": "ipython3",
   "version": "3.8.5"
  }
 },
 "nbformat": 4,
 "nbformat_minor": 4
}
