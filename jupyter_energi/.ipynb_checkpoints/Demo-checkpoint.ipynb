{
 "cells": [
  {
   "cell_type": "code",
   "execution_count": 1,
   "metadata": {
    "ExecuteTime": {
     "end_time": "2024-03-19T14:03:55.650335100Z",
     "start_time": "2024-03-19T14:03:55.614333Z"
    },
    "scrolled": true
   },
   "outputs": [],
   "source": [
    "\n",
    "import jupyter_energi"
   ]
  },
  {
   "cell_type": "code",
   "execution_count": 3,
   "metadata": {
    "ExecuteTime": {
     "end_time": "2024-03-19T14:03:57.580892300Z",
     "start_time": "2024-03-19T14:03:55.643016Z"
    }
   },
   "outputs": [
    {
     "name": "stdout",
     "output_type": "stream",
     "text": [
      "test\n",
      "Energy consumption in joules: 0.129638671875 for 0.2201317 sec of execution.\n",
      "\n",
      "Traceback (most recent call last):\n",
      "  File \"temp.py\", line 2, in <module>\n",
      "    import sleep\n",
      "ModuleNotFoundError: No module named 'sleep'\n",
      "\n",
      "DATA: [[0.00000000e+00 1.71085820e+12 2.59200000e+03 1.49500000e+03\n",
      "  2.59200000e+03 1.49500000e+03 2.59200000e+03 1.49500000e+03\n",
      "  2.59200000e+03 1.49500000e+03 2.59200000e+03 1.49500000e+03\n",
      "  1.49500000e+03 1.49500000e+03 6.89914932e+01 5.69806480e+01\n",
      "  5.36656113e+01 4.18063049e+01 8.26605835e+01 3.12572021e+01\n",
      "  4.60994644e+01 8.77868576e+01 9.99158936e+01 8.89397278e+01\n",
      "  4.50046043e+01 3.68823280e+01 9.06030334e+03 4.01384698e+04\n",
      "  3.05098796e+04 4.17454468e+02 3.41560238e+10 5.10027366e+09\n",
      "  1.68813363e+10 0.00000000e+00]\n",
      " [2.00000000e+02 1.71085820e+12 2.59200000e+03 1.49500000e+03\n",
      "  2.59200000e+03 1.49500000e+03 2.59200000e+03 1.49500000e+03\n",
      "  2.59200000e+03 1.49500000e+03 2.59200000e+03 1.49500000e+03\n",
      "  1.49500000e+03 1.49500000e+03 6.63563385e+01 6.06829376e+01\n",
      "  7.74837036e+01 4.17641983e+01 9.61397781e+01 5.38757362e+01\n",
      "  8.61052017e+01 7.80810852e+01 8.84947052e+01 6.19020691e+01\n",
      "  6.80808640e+01 6.91359711e+01 9.06033258e+03 4.01385995e+04\n",
      "  3.05099800e+04 4.17454468e+02 3.41560238e+10 5.10027366e+09\n",
      "  1.68813650e+10 0.00000000e+00]\n",
      " [1.00000000e+01 1.71085820e+12 2.59200000e+03 1.49500000e+03\n",
      "  2.59200000e+03 1.49500000e+03 2.59200000e+03 1.49500000e+03\n",
      "  2.59200000e+03 1.49500000e+03 2.59200000e+03 1.49500000e+03\n",
      "  1.49500000e+03 1.49500000e+03 6.90726471e+01 5.31783066e+01\n",
      "  6.65827637e+01 5.99209938e+01 8.14824600e+01 6.14400635e+01\n",
      "  6.89254227e+01 6.88102341e+01 7.56115036e+01 6.98473129e+01\n",
      "  6.01739998e+01 5.31223984e+01 9.06094867e+03 4.01412004e+04\n",
      "  3.05119875e+04 4.17580627e+02 3.41560238e+10 5.10027366e+09\n",
      "  1.68935424e+10 0.00000000e+00]]\n"
     ]
    },
    {
     "ename": "IndexError",
     "evalue": "too many indices for array: array is 1-dimensional, but 2 were indexed",
     "output_type": "error",
     "traceback": [
      "\u001b[1;31m---------------------------------------------------------------------------\u001b[0m",
      "\u001b[1;31mIndexError\u001b[0m                                Traceback (most recent call last)",
      "Cell \u001b[1;32mIn [3], line 9\u001b[0m\n\u001b[0;32m      1\u001b[0m some_code \u001b[38;5;241m=\u001b[39m \u001b[38;5;124m'''\u001b[39m\n\u001b[0;32m      2\u001b[0m \u001b[38;5;124mimport sleep\u001b[39m\n\u001b[0;32m      3\u001b[0m \n\u001b[1;32m   (...)\u001b[0m\n\u001b[0;32m      6\u001b[0m \u001b[38;5;124m    print(i)\u001b[39m\n\u001b[0;32m      7\u001b[0m \u001b[38;5;124m'''\u001b[39m\n\u001b[0;32m      8\u001b[0m \u001b[38;5;28mprint\u001b[39m(\u001b[38;5;124m\"\u001b[39m\u001b[38;5;124mtest\u001b[39m\u001b[38;5;124m\"\u001b[39m)\n\u001b[1;32m----> 9\u001b[0m data \u001b[38;5;241m=\u001b[39m \u001b[43mjupyter_energi\u001b[49m\u001b[38;5;241;43m.\u001b[39;49m\u001b[43mrun\u001b[49m\u001b[43m(\u001b[49m\u001b[43msome_code\u001b[49m\u001b[43m)\u001b[49m\n\u001b[0;32m     10\u001b[0m \u001b[38;5;28mprint\u001b[39m(data)\n",
      "File \u001b[1;32m~\\git\\EnergiBridgeWrapper\\jupyter_energi\\jupyter_energi.py:37\u001b[0m, in \u001b[0;36mrun\u001b[1;34m(program)\u001b[0m\n\u001b[0;32m     33\u001b[0m \u001b[38;5;28mprint\u001b[39m(\u001b[38;5;124m\"\u001b[39m\u001b[38;5;124mDATA:\u001b[39m\u001b[38;5;124m\"\u001b[39m, data)\n\u001b[0;32m     34\u001b[0m \u001b[38;5;66;03m# remove the temporary file\u001b[39;00m\n\u001b[0;32m     35\u001b[0m \u001b[38;5;66;03m#os.remove('temp.csv')\u001b[39;00m\n\u001b[0;32m     36\u001b[0m \u001b[38;5;66;03m# get power from the data\u001b[39;00m\n\u001b[1;32m---> 37\u001b[0m power \u001b[38;5;241m=\u001b[39m \u001b[43mextract_power\u001b[49m\u001b[43m(\u001b[49m\u001b[43mdata\u001b[49m\u001b[43m)\u001b[49m\n\u001b[0;32m     39\u001b[0m \u001b[38;5;28;01mreturn\u001b[39;00m power\n",
      "File \u001b[1;32m~\\git\\EnergiBridgeWrapper\\jupyter_energi\\jupyter_energi.py:10\u001b[0m, in \u001b[0;36mextract_power\u001b[1;34m(dataset)\u001b[0m\n\u001b[0;32m      8\u001b[0m total_res \u001b[38;5;241m=\u001b[39m []\n\u001b[0;32m      9\u001b[0m \u001b[38;5;28;01mfor\u001b[39;00m data \u001b[38;5;129;01min\u001b[39;00m dataset:\n\u001b[1;32m---> 10\u001b[0m     power \u001b[38;5;241m=\u001b[39m \u001b[43mdata\u001b[49m\u001b[43m[\u001b[49m\u001b[43m:\u001b[49m\u001b[43m,\u001b[49m\u001b[43m \u001b[49m\u001b[38;5;241;43m18\u001b[39;49m\u001b[43m]\u001b[49m\n\u001b[0;32m     11\u001b[0m     delta \u001b[38;5;241m=\u001b[39m data[:, \u001b[38;5;241m0\u001b[39m]\n\u001b[0;32m     12\u001b[0m     res \u001b[38;5;241m=\u001b[39m \u001b[38;5;241m0\u001b[39m\n",
      "\u001b[1;31mIndexError\u001b[0m: too many indices for array: array is 1-dimensional, but 2 were indexed"
     ]
    }
   ],
   "source": [
    "some_code = '''\n",
    "from time import sleep\n",
    "\n",
    "for i in range(3):\n",
    "    sleep(1)\n",
    "    print(i)\n",
    "'''\n",
    "print(\"test\")\n",
    "data = jupyter_energi.run(some_code)\n",
    "print(data)"
   ]
  },
  {
   "cell_type": "code",
   "execution_count": 2,
   "metadata": {
    "ExecuteTime": {
     "end_time": "2024-03-19T11:54:57.308094200Z",
     "start_time": "2024-03-19T11:54:57.301092300Z"
    }
   },
   "outputs": [],
   "source": []
  },
  {
   "cell_type": "code",
   "execution_count": 5,
   "metadata": {
    "ExecuteTime": {
     "end_time": "2024-03-18T13:31:34.207992100Z",
     "start_time": "2024-03-18T13:31:34.193992800Z"
    }
   },
   "outputs": [],
   "source": []
  },
  {
   "cell_type": "code",
   "execution_count": 5,
   "metadata": {
    "ExecuteTime": {
     "end_time": "2024-03-18T13:31:34.236992100Z",
     "start_time": "2024-03-18T13:31:34.208992700Z"
    }
   },
   "outputs": [],
   "source": []
  },
  {
   "cell_type": "code",
   "execution_count": 5,
   "metadata": {
    "ExecuteTime": {
     "end_time": "2024-03-18T13:31:34.245027300Z",
     "start_time": "2024-03-18T13:31:34.224993500Z"
    }
   },
   "outputs": [],
   "source": []
  },
  {
   "cell_type": "code",
   "execution_count": null,
   "metadata": {},
   "outputs": [],
   "source": []
  }
 ],
 "metadata": {
  "kernelspec": {
   "display_name": "Python 3",
   "language": "python",
   "name": "python3"
  },
  "language_info": {
   "codemirror_mode": {
    "name": "ipython",
    "version": 3
   },
   "file_extension": ".py",
   "mimetype": "text/x-python",
   "name": "python",
   "nbconvert_exporter": "python",
   "pygments_lexer": "ipython3",
   "version": "3.8.5"
  }
 },
 "nbformat": 4,
 "nbformat_minor": 4
}
