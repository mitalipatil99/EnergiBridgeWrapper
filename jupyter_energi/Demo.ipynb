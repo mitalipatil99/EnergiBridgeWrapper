{
 "cells": [
  {
   "cell_type": "code",
   "execution_count": 1,
   "metadata": {
    "ExecuteTime": {
     "end_time": "2024-03-19T14:03:55.650335100Z",
     "start_time": "2024-03-19T14:03:55.614333Z"
    },
    "scrolled": true
   },
   "outputs": [],
   "source": [
    "\n",
    "import jupyter_energi"
   ]
  },
  {
   "cell_type": "code",
   "execution_count": 2,
   "metadata": {
    "ExecuteTime": {
     "end_time": "2024-03-19T14:03:57.580892300Z",
     "start_time": "2024-03-19T14:03:55.643016Z"
    }
   },
   "outputs": [
    {
     "name": "stdout",
     "output_type": "stream",
     "text": [
      "test\n",
      "0\n",
      "1\n",
      "2\n",
      "Energy consumption in joules: 14.566162109375 for 3.247937 sec of execution.\n",
      "\n",
      "\n",
      "31201.967662231444\n",
      "[31201.967662231444]\n"
     ]
    }
   ],
   "source": [
    "some_code = '''\n",
    "from time import sleep\n",
    "\n",
    "for i in range(3):\n",
    "    sleep(1)\n",
    "    print(i)\n",
    "'''\n",
    "print(\"test\")\n",
    "data = jupyter_energi.run(some_code)\n",
    "print(data)"
   ]
  },
  {
   "cell_type": "code",
   "execution_count": 3,
   "metadata": {
    "ExecuteTime": {
     "end_time": "2024-03-19T11:54:57.308094200Z",
     "start_time": "2024-03-19T11:54:57.301092300Z"
    }
   },
   "outputs": [
    {
     "name": "stdout",
     "output_type": "stream",
     "text": [
      "[74.49909908294678]\n"
     ]
    }
   ],
   "source": [
    "print(data)"
   ]
  },
  {
   "cell_type": "code",
   "execution_count": 5,
   "metadata": {
    "ExecuteTime": {
     "end_time": "2024-03-18T13:31:34.207992100Z",
     "start_time": "2024-03-18T13:31:34.193992800Z"
    }
   },
   "outputs": [],
   "source": []
  },
  {
   "cell_type": "code",
   "execution_count": 5,
   "metadata": {
    "ExecuteTime": {
     "end_time": "2024-03-18T13:31:34.236992100Z",
     "start_time": "2024-03-18T13:31:34.208992700Z"
    }
   },
   "outputs": [],
   "source": []
  },
  {
   "cell_type": "code",
   "execution_count": 5,
   "metadata": {
    "ExecuteTime": {
     "end_time": "2024-03-18T13:31:34.245027300Z",
     "start_time": "2024-03-18T13:31:34.224993500Z"
    }
   },
   "outputs": [],
   "source": []
  },
  {
   "cell_type": "code",
   "execution_count": null,
   "metadata": {},
   "outputs": [],
   "source": []
  }
 ],
 "metadata": {
  "kernelspec": {
   "display_name": "Python 3",
   "language": "python",
   "name": "python3"
  },
  "language_info": {
   "codemirror_mode": {
    "name": "ipython",
    "version": 3
   },
   "file_extension": ".py",
   "mimetype": "text/x-python",
   "name": "python",
   "nbconvert_exporter": "python",
   "pygments_lexer": "ipython3",
   "version": "3.8.5"
  }
 },
 "nbformat": 4,
 "nbformat_minor": 4
}
