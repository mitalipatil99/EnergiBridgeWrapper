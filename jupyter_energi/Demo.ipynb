{
 "cells": [
  {
   "cell_type": "code",
   "execution_count": 1,
   "metadata": {
    "scrolled": true,
    "ExecuteTime": {
     "end_time": "2024-03-19T12:16:30.735047300Z",
     "start_time": "2024-03-19T12:16:30.714242400Z"
    }
   },
   "outputs": [],
   "source": [
    "\n",
    "import jupyter_energi"
   ]
  },
  {
   "cell_type": "code",
   "execution_count": 2,
   "metadata": {
    "ExecuteTime": {
     "end_time": "2024-03-19T12:16:30.996109200Z",
     "start_time": "2024-03-19T12:16:30.730033700Z"
    }
   },
   "outputs": [
    {
     "name": "stdout",
     "output_type": "stream",
     "text": [
      "test\n",
      "success\n"
     ]
    }
   ],
   "source": [
    "some_code = '''\n",
    "for i in range(3):\n",
    "    print(i)\n",
    "'''\n",
    "print(\"test\")\n",
    "data = jupyter_energi.run(some_code)\n",
    "print(data)"
   ]
  },
  {
   "cell_type": "code",
   "execution_count": 2,
   "metadata": {
    "ExecuteTime": {
     "end_time": "2024-03-19T11:54:57.308094200Z",
     "start_time": "2024-03-19T11:54:57.301092300Z"
    }
   },
   "outputs": [],
   "source": []
  },
  {
   "cell_type": "code",
   "execution_count": 5,
   "metadata": {
    "ExecuteTime": {
     "end_time": "2024-03-18T13:31:34.207992100Z",
     "start_time": "2024-03-18T13:31:34.193992800Z"
    }
   },
   "outputs": [],
   "source": []
  },
  {
   "cell_type": "code",
   "execution_count": 5,
   "metadata": {
    "ExecuteTime": {
     "end_time": "2024-03-18T13:31:34.236992100Z",
     "start_time": "2024-03-18T13:31:34.208992700Z"
    }
   },
   "outputs": [],
   "source": []
  },
  {
   "cell_type": "code",
   "execution_count": 5,
   "metadata": {
    "ExecuteTime": {
     "end_time": "2024-03-18T13:31:34.245027300Z",
     "start_time": "2024-03-18T13:31:34.224993500Z"
    }
   },
   "outputs": [],
   "source": []
  }
 ],
 "metadata": {
  "kernelspec": {
   "display_name": "Python 3",
   "language": "python",
   "name": "python3"
  },
  "language_info": {
   "codemirror_mode": {
    "name": "ipython",
    "version": 3
   },
   "file_extension": ".py",
   "mimetype": "text/x-python",
   "name": "python",
   "nbconvert_exporter": "python",
   "pygments_lexer": "ipython3",
   "version": "3.8.5"
  }
 },
 "nbformat": 4,
 "nbformat_minor": 4
}
