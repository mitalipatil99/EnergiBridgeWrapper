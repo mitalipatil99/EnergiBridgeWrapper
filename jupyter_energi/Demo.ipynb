{
 "cells": [
  {
   "cell_type": "markdown",
   "metadata": {},
   "source": []
  },
  {
   "cell_type": "code",
   "execution_count": 13,
   "metadata": {
    "ExecuteTime": {
     "end_time": "2024-03-19T14:03:55.650335100Z",
     "start_time": "2024-03-19T14:03:55.614333Z"
    },
    "scrolled": true
   },
   "outputs": [],
   "source": [
    "\n",
    "import jupyter_energi"
   ]
  },
  {
   "cell_type": "code",
   "execution_count": 16,
   "metadata": {
    "ExecuteTime": {
     "end_time": "2024-03-19T14:03:57.580892300Z",
     "start_time": "2024-03-19T14:03:55.643016Z"
    }
   },
   "outputs": [
    {
     "name": "stdout",
     "output_type": "stream",
     "text": [
      "test\n",
      "test1\n",
      "\n",
      "thread 'main' panicked at src\\cpu\\msr\\windows.rs:39:13:\n",
      "not running as admin, this is required for the RAPL driver to work\n",
      "note: run with `RUST_BACKTRACE=1` environment variable to display a backtrace\n",
      "\n",
      "31201.967662231444\n",
      "[31201.967662231444]\n"
     ]
    }
   ],
   "source": [
    "some_code = '''\n",
    "#EnergiBridgeStart\n",
    "from time import sleep\n",
    "\n",
    "for i in range(3):\n",
    "    sleep(1)\n",
    "    print(i)\n",
    "#EnergiBridgeStop\n",
    "'''\n",
    "\n",
    "print(\"test\")\n",
    "print(\"test1\")\n",
    "\n",
    "data = jupyter_energi.run(some_code)\n",
    "print(data)"
   ]
  },
  {
   "cell_type": "code",
   "execution_count": 15,
   "metadata": {
    "ExecuteTime": {
     "end_time": "2024-03-19T11:54:57.308094200Z",
     "start_time": "2024-03-19T11:54:57.301092300Z"
    }
   },
   "outputs": [
    {
     "name": "stdout",
     "output_type": "stream",
     "text": [
      "[31201.967662231444]\n"
     ]
    }
   ],
   "source": [
    "\n",
    "print(data)\n"
   ]
  },
  {
   "cell_type": "code",
   "execution_count": null,
   "metadata": {
    "ExecuteTime": {
     "end_time": "2024-03-18T13:31:34.207992100Z",
     "start_time": "2024-03-18T13:31:34.193992800Z"
    }
   },
   "outputs": [],
   "source": []
  },
  {
   "cell_type": "code",
   "execution_count": 5,
   "metadata": {
    "ExecuteTime": {
     "end_time": "2024-03-18T13:31:34.236992100Z",
     "start_time": "2024-03-18T13:31:34.208992700Z"
    }
   },
   "outputs": [],
   "source": []
  },
  {
   "cell_type": "code",
   "execution_count": 5,
   "metadata": {
    "ExecuteTime": {
     "end_time": "2024-03-18T13:31:34.245027300Z",
     "start_time": "2024-03-18T13:31:34.224993500Z"
    }
   },
   "outputs": [],
   "source": []
  },
  {
   "cell_type": "code",
   "execution_count": null,
   "metadata": {},
   "outputs": [],
   "source": []
  }
 ],
 "metadata": {
  "kernelspec": {
   "display_name": "Python 3 (ipykernel)",
   "language": "python",
   "name": "python3"
  },
  "language_info": {
   "codemirror_mode": {
    "name": "ipython",
    "version": 3
   },
   "file_extension": ".py",
   "mimetype": "text/x-python",
   "name": "python",
   "nbconvert_exporter": "python",
   "pygments_lexer": "ipython3",
   "version": "3.11.7"
  }
 },
 "nbformat": 4,
 "nbformat_minor": 4
}
